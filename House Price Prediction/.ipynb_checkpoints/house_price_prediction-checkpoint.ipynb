{
 "cells": [
  {
   "cell_type": "code",
   "execution_count": 1,
   "id": "b94d2e0c-1e00-46fe-acff-5bfd3fc05341",
   "metadata": {},
   "outputs": [],
   "source": [
    "import pandas as pd\n"
   ]
  },
  {
   "cell_type": "code",
   "execution_count": 2,
   "id": "322836ae-5982-4b61-80f1-945a2621811a",
   "metadata": {},
   "outputs": [],
   "source": [
    "df = pd.read_csv('houseprice.csv', usecols=[\"SalePrice\", \"MSSubClass\", \"MSZoning\",\"LotFrontage\", \"LotArea\",\n",
    "                                         \"Street\", \"YearBuilt\", \"LotShape\", \"1stFlrSF\", \"2ndFlrSF\"]).dropna()"
   ]
  },
  {
   "cell_type": "code",
   "execution_count": 3,
   "id": "6720c901-b941-439a-919c-da3bea4621d5",
   "metadata": {},
   "outputs": [
    {
     "data": {
      "text/plain": [
       "(1201, 10)"
      ]
     },
     "execution_count": 3,
     "metadata": {},
     "output_type": "execute_result"
    }
   ],
   "source": [
    "df.shape"
   ]
  },
  {
   "cell_type": "code",
   "execution_count": 5,
   "id": "a0c402a7-a7f7-4306-a030-54d96899f45f",
   "metadata": {},
   "outputs": [
    {
     "data": {
      "text/html": [
       "<div>\n",
       "<style scoped>\n",
       "    .dataframe tbody tr th:only-of-type {\n",
       "        vertical-align: middle;\n",
       "    }\n",
       "\n",
       "    .dataframe tbody tr th {\n",
       "        vertical-align: top;\n",
       "    }\n",
       "\n",
       "    .dataframe thead th {\n",
       "        text-align: right;\n",
       "    }\n",
       "</style>\n",
       "<table border=\"1\" class=\"dataframe\">\n",
       "  <thead>\n",
       "    <tr style=\"text-align: right;\">\n",
       "      <th></th>\n",
       "      <th>MSSubClass</th>\n",
       "      <th>MSZoning</th>\n",
       "      <th>LotFrontage</th>\n",
       "      <th>LotArea</th>\n",
       "      <th>Street</th>\n",
       "      <th>LotShape</th>\n",
       "      <th>YearBuilt</th>\n",
       "      <th>1stFlrSF</th>\n",
       "      <th>2ndFlrSF</th>\n",
       "      <th>SalePrice</th>\n",
       "    </tr>\n",
       "  </thead>\n",
       "  <tbody>\n",
       "    <tr>\n",
       "      <th>0</th>\n",
       "      <td>60</td>\n",
       "      <td>RL</td>\n",
       "      <td>65.0</td>\n",
       "      <td>8450</td>\n",
       "      <td>Pave</td>\n",
       "      <td>Reg</td>\n",
       "      <td>2003</td>\n",
       "      <td>856</td>\n",
       "      <td>854</td>\n",
       "      <td>208500</td>\n",
       "    </tr>\n",
       "    <tr>\n",
       "      <th>1</th>\n",
       "      <td>20</td>\n",
       "      <td>RL</td>\n",
       "      <td>80.0</td>\n",
       "      <td>9600</td>\n",
       "      <td>Pave</td>\n",
       "      <td>Reg</td>\n",
       "      <td>1976</td>\n",
       "      <td>1262</td>\n",
       "      <td>0</td>\n",
       "      <td>181500</td>\n",
       "    </tr>\n",
       "    <tr>\n",
       "      <th>2</th>\n",
       "      <td>60</td>\n",
       "      <td>RL</td>\n",
       "      <td>68.0</td>\n",
       "      <td>11250</td>\n",
       "      <td>Pave</td>\n",
       "      <td>IR1</td>\n",
       "      <td>2001</td>\n",
       "      <td>920</td>\n",
       "      <td>866</td>\n",
       "      <td>223500</td>\n",
       "    </tr>\n",
       "    <tr>\n",
       "      <th>3</th>\n",
       "      <td>70</td>\n",
       "      <td>RL</td>\n",
       "      <td>60.0</td>\n",
       "      <td>9550</td>\n",
       "      <td>Pave</td>\n",
       "      <td>IR1</td>\n",
       "      <td>1915</td>\n",
       "      <td>961</td>\n",
       "      <td>756</td>\n",
       "      <td>140000</td>\n",
       "    </tr>\n",
       "    <tr>\n",
       "      <th>4</th>\n",
       "      <td>60</td>\n",
       "      <td>RL</td>\n",
       "      <td>84.0</td>\n",
       "      <td>14260</td>\n",
       "      <td>Pave</td>\n",
       "      <td>IR1</td>\n",
       "      <td>2000</td>\n",
       "      <td>1145</td>\n",
       "      <td>1053</td>\n",
       "      <td>250000</td>\n",
       "    </tr>\n",
       "  </tbody>\n",
       "</table>\n",
       "</div>"
      ],
      "text/plain": [
       "   MSSubClass MSZoning  LotFrontage  LotArea Street LotShape  YearBuilt  \\\n",
       "0          60       RL         65.0     8450   Pave      Reg       2003   \n",
       "1          20       RL         80.0     9600   Pave      Reg       1976   \n",
       "2          60       RL         68.0    11250   Pave      IR1       2001   \n",
       "3          70       RL         60.0     9550   Pave      IR1       1915   \n",
       "4          60       RL         84.0    14260   Pave      IR1       2000   \n",
       "\n",
       "   1stFlrSF  2ndFlrSF  SalePrice  \n",
       "0       856       854     208500  \n",
       "1      1262         0     181500  \n",
       "2       920       866     223500  \n",
       "3       961       756     140000  \n",
       "4      1145      1053     250000  "
      ]
     },
     "execution_count": 5,
     "metadata": {},
     "output_type": "execute_result"
    }
   ],
   "source": [
    "df.head()"
   ]
  },
  {
   "cell_type": "code",
   "execution_count": 7,
   "id": "7428ab39-9a6c-4ad8-824c-ef4dec0bde16",
   "metadata": {},
   "outputs": [
    {
     "name": "stdout",
     "output_type": "stream",
     "text": [
      "<class 'pandas.core.frame.DataFrame'>\n",
      "Index: 1201 entries, 0 to 1459\n",
      "Data columns (total 10 columns):\n",
      " #   Column       Non-Null Count  Dtype  \n",
      "---  ------       --------------  -----  \n",
      " 0   MSSubClass   1201 non-null   int64  \n",
      " 1   MSZoning     1201 non-null   object \n",
      " 2   LotFrontage  1201 non-null   float64\n",
      " 3   LotArea      1201 non-null   int64  \n",
      " 4   Street       1201 non-null   object \n",
      " 5   LotShape     1201 non-null   object \n",
      " 6   YearBuilt    1201 non-null   int64  \n",
      " 7   1stFlrSF     1201 non-null   int64  \n",
      " 8   2ndFlrSF     1201 non-null   int64  \n",
      " 9   SalePrice    1201 non-null   int64  \n",
      "dtypes: float64(1), int64(6), object(3)\n",
      "memory usage: 103.2+ KB\n"
     ]
    }
   ],
   "source": [
    "df.info()"
   ]
  },
  {
   "cell_type": "code",
   "execution_count": 8,
   "id": "3f80390e-bf41-4f93-ab94-1156b8c09a4e",
   "metadata": {},
   "outputs": [
    {
     "name": "stdout",
     "output_type": "stream",
     "text": [
      "Column name MSSubClass has unique values 15\n",
      "Column name MSZoning has unique values 5\n",
      "Column name LotFrontage has unique values 110\n",
      "Column name LotArea has unique values 869\n",
      "Column name Street has unique values 2\n",
      "Column name LotShape has unique values 4\n",
      "Column name YearBuilt has unique values 112\n",
      "Column name 1stFlrSF has unique values 678\n",
      "Column name 2ndFlrSF has unique values 368\n",
      "Column name SalePrice has unique values 597\n"
     ]
    }
   ],
   "source": [
    "for i in df.columns:\n",
    "    print(\"Column name {} has unique values {}\".format(i,len(df[i].unique())))"
   ]
  },
  {
   "cell_type": "code",
   "execution_count": 10,
   "id": "8fdf713b-723a-4133-97e1-431f5be8a94a",
   "metadata": {},
   "outputs": [],
   "source": [
    "import datetime\n",
    "df['Total Years'] = datetime.datetime.now().year-df['YearBuilt']"
   ]
  },
  {
   "cell_type": "code",
   "execution_count": 12,
   "id": "c75bfdce-8989-4dc5-933e-af6db227dd1a",
   "metadata": {},
   "outputs": [
    {
     "data": {
      "text/html": [
       "<div>\n",
       "<style scoped>\n",
       "    .dataframe tbody tr th:only-of-type {\n",
       "        vertical-align: middle;\n",
       "    }\n",
       "\n",
       "    .dataframe tbody tr th {\n",
       "        vertical-align: top;\n",
       "    }\n",
       "\n",
       "    .dataframe thead th {\n",
       "        text-align: right;\n",
       "    }\n",
       "</style>\n",
       "<table border=\"1\" class=\"dataframe\">\n",
       "  <thead>\n",
       "    <tr style=\"text-align: right;\">\n",
       "      <th></th>\n",
       "      <th>MSSubClass</th>\n",
       "      <th>MSZoning</th>\n",
       "      <th>LotFrontage</th>\n",
       "      <th>LotArea</th>\n",
       "      <th>Street</th>\n",
       "      <th>LotShape</th>\n",
       "      <th>YearBuilt</th>\n",
       "      <th>1stFlrSF</th>\n",
       "      <th>2ndFlrSF</th>\n",
       "      <th>SalePrice</th>\n",
       "      <th>Total Years</th>\n",
       "    </tr>\n",
       "  </thead>\n",
       "  <tbody>\n",
       "    <tr>\n",
       "      <th>0</th>\n",
       "      <td>60</td>\n",
       "      <td>RL</td>\n",
       "      <td>65.0</td>\n",
       "      <td>8450</td>\n",
       "      <td>Pave</td>\n",
       "      <td>Reg</td>\n",
       "      <td>2003</td>\n",
       "      <td>856</td>\n",
       "      <td>854</td>\n",
       "      <td>208500</td>\n",
       "      <td>20</td>\n",
       "    </tr>\n",
       "    <tr>\n",
       "      <th>1</th>\n",
       "      <td>20</td>\n",
       "      <td>RL</td>\n",
       "      <td>80.0</td>\n",
       "      <td>9600</td>\n",
       "      <td>Pave</td>\n",
       "      <td>Reg</td>\n",
       "      <td>1976</td>\n",
       "      <td>1262</td>\n",
       "      <td>0</td>\n",
       "      <td>181500</td>\n",
       "      <td>47</td>\n",
       "    </tr>\n",
       "    <tr>\n",
       "      <th>2</th>\n",
       "      <td>60</td>\n",
       "      <td>RL</td>\n",
       "      <td>68.0</td>\n",
       "      <td>11250</td>\n",
       "      <td>Pave</td>\n",
       "      <td>IR1</td>\n",
       "      <td>2001</td>\n",
       "      <td>920</td>\n",
       "      <td>866</td>\n",
       "      <td>223500</td>\n",
       "      <td>22</td>\n",
       "    </tr>\n",
       "    <tr>\n",
       "      <th>3</th>\n",
       "      <td>70</td>\n",
       "      <td>RL</td>\n",
       "      <td>60.0</td>\n",
       "      <td>9550</td>\n",
       "      <td>Pave</td>\n",
       "      <td>IR1</td>\n",
       "      <td>1915</td>\n",
       "      <td>961</td>\n",
       "      <td>756</td>\n",
       "      <td>140000</td>\n",
       "      <td>108</td>\n",
       "    </tr>\n",
       "    <tr>\n",
       "      <th>4</th>\n",
       "      <td>60</td>\n",
       "      <td>RL</td>\n",
       "      <td>84.0</td>\n",
       "      <td>14260</td>\n",
       "      <td>Pave</td>\n",
       "      <td>IR1</td>\n",
       "      <td>2000</td>\n",
       "      <td>1145</td>\n",
       "      <td>1053</td>\n",
       "      <td>250000</td>\n",
       "      <td>23</td>\n",
       "    </tr>\n",
       "  </tbody>\n",
       "</table>\n",
       "</div>"
      ],
      "text/plain": [
       "   MSSubClass MSZoning  LotFrontage  LotArea Street LotShape  YearBuilt  \\\n",
       "0          60       RL         65.0     8450   Pave      Reg       2003   \n",
       "1          20       RL         80.0     9600   Pave      Reg       1976   \n",
       "2          60       RL         68.0    11250   Pave      IR1       2001   \n",
       "3          70       RL         60.0     9550   Pave      IR1       1915   \n",
       "4          60       RL         84.0    14260   Pave      IR1       2000   \n",
       "\n",
       "   1stFlrSF  2ndFlrSF  SalePrice  Total Years  \n",
       "0       856       854     208500           20  \n",
       "1      1262         0     181500           47  \n",
       "2       920       866     223500           22  \n",
       "3       961       756     140000          108  \n",
       "4      1145      1053     250000           23  "
      ]
     },
     "execution_count": 12,
     "metadata": {},
     "output_type": "execute_result"
    }
   ],
   "source": [
    "df.head()"
   ]
  },
  {
   "cell_type": "code",
   "execution_count": 13,
   "id": "6fbe78a7-7308-46d2-ac5b-0028a97666e4",
   "metadata": {},
   "outputs": [],
   "source": [
    "df.drop(\"YearBuilt\",axis = 1,inplace=True)"
   ]
  },
  {
   "cell_type": "code",
   "execution_count": 15,
   "id": "de8f2c2d-334f-4e0a-80b6-805d86dadedc",
   "metadata": {},
   "outputs": [
    {
     "data": {
      "text/plain": [
       "Index(['MSSubClass', 'MSZoning', 'LotFrontage', 'LotArea', 'Street',\n",
       "       'LotShape', '1stFlrSF', '2ndFlrSF', 'SalePrice', 'Total Years'],\n",
       "      dtype='object')"
      ]
     },
     "execution_count": 15,
     "metadata": {},
     "output_type": "execute_result"
    }
   ],
   "source": [
    "df.columns"
   ]
  },
  {
   "cell_type": "code",
   "execution_count": 16,
   "id": "69fb9521-5032-49ba-ad92-d6835a905ceb",
   "metadata": {},
   "outputs": [
    {
     "data": {
      "text/html": [
       "<div>\n",
       "<style scoped>\n",
       "    .dataframe tbody tr th:only-of-type {\n",
       "        vertical-align: middle;\n",
       "    }\n",
       "\n",
       "    .dataframe tbody tr th {\n",
       "        vertical-align: top;\n",
       "    }\n",
       "\n",
       "    .dataframe thead th {\n",
       "        text-align: right;\n",
       "    }\n",
       "</style>\n",
       "<table border=\"1\" class=\"dataframe\">\n",
       "  <thead>\n",
       "    <tr style=\"text-align: right;\">\n",
       "      <th></th>\n",
       "      <th>MSSubClass</th>\n",
       "      <th>MSZoning</th>\n",
       "      <th>LotFrontage</th>\n",
       "      <th>LotArea</th>\n",
       "      <th>Street</th>\n",
       "      <th>LotShape</th>\n",
       "      <th>1stFlrSF</th>\n",
       "      <th>2ndFlrSF</th>\n",
       "      <th>SalePrice</th>\n",
       "      <th>Total Years</th>\n",
       "    </tr>\n",
       "  </thead>\n",
       "  <tbody>\n",
       "    <tr>\n",
       "      <th>0</th>\n",
       "      <td>60</td>\n",
       "      <td>RL</td>\n",
       "      <td>65.0</td>\n",
       "      <td>8450</td>\n",
       "      <td>Pave</td>\n",
       "      <td>Reg</td>\n",
       "      <td>856</td>\n",
       "      <td>854</td>\n",
       "      <td>208500</td>\n",
       "      <td>20</td>\n",
       "    </tr>\n",
       "    <tr>\n",
       "      <th>1</th>\n",
       "      <td>20</td>\n",
       "      <td>RL</td>\n",
       "      <td>80.0</td>\n",
       "      <td>9600</td>\n",
       "      <td>Pave</td>\n",
       "      <td>Reg</td>\n",
       "      <td>1262</td>\n",
       "      <td>0</td>\n",
       "      <td>181500</td>\n",
       "      <td>47</td>\n",
       "    </tr>\n",
       "    <tr>\n",
       "      <th>2</th>\n",
       "      <td>60</td>\n",
       "      <td>RL</td>\n",
       "      <td>68.0</td>\n",
       "      <td>11250</td>\n",
       "      <td>Pave</td>\n",
       "      <td>IR1</td>\n",
       "      <td>920</td>\n",
       "      <td>866</td>\n",
       "      <td>223500</td>\n",
       "      <td>22</td>\n",
       "    </tr>\n",
       "    <tr>\n",
       "      <th>3</th>\n",
       "      <td>70</td>\n",
       "      <td>RL</td>\n",
       "      <td>60.0</td>\n",
       "      <td>9550</td>\n",
       "      <td>Pave</td>\n",
       "      <td>IR1</td>\n",
       "      <td>961</td>\n",
       "      <td>756</td>\n",
       "      <td>140000</td>\n",
       "      <td>108</td>\n",
       "    </tr>\n",
       "    <tr>\n",
       "      <th>4</th>\n",
       "      <td>60</td>\n",
       "      <td>RL</td>\n",
       "      <td>84.0</td>\n",
       "      <td>14260</td>\n",
       "      <td>Pave</td>\n",
       "      <td>IR1</td>\n",
       "      <td>1145</td>\n",
       "      <td>1053</td>\n",
       "      <td>250000</td>\n",
       "      <td>23</td>\n",
       "    </tr>\n",
       "  </tbody>\n",
       "</table>\n",
       "</div>"
      ],
      "text/plain": [
       "   MSSubClass MSZoning  LotFrontage  LotArea Street LotShape  1stFlrSF  \\\n",
       "0          60       RL         65.0     8450   Pave      Reg       856   \n",
       "1          20       RL         80.0     9600   Pave      Reg      1262   \n",
       "2          60       RL         68.0    11250   Pave      IR1       920   \n",
       "3          70       RL         60.0     9550   Pave      IR1       961   \n",
       "4          60       RL         84.0    14260   Pave      IR1      1145   \n",
       "\n",
       "   2ndFlrSF  SalePrice  Total Years  \n",
       "0       854     208500           20  \n",
       "1         0     181500           47  \n",
       "2       866     223500           22  \n",
       "3       756     140000          108  \n",
       "4      1053     250000           23  "
      ]
     },
     "execution_count": 16,
     "metadata": {},
     "output_type": "execute_result"
    }
   ],
   "source": [
    "df.head()"
   ]
  },
  {
   "cell_type": "code",
   "execution_count": 17,
   "id": "624509ab-d63e-4302-836c-1c87882382ee",
   "metadata": {},
   "outputs": [],
   "source": [
    "cat_features = [\"MSSubClass\",\"MSZoning\",\"Street\",\"LotShape\"]"
   ]
  },
  {
   "cell_type": "code",
   "execution_count": 18,
   "id": "968eb44f-7dbe-4127-bc93-002fde0d2eee",
   "metadata": {},
   "outputs": [],
   "source": [
    "out_features = \"SalePrice\""
   ]
  },
  {
   "cell_type": "code",
   "execution_count": 20,
   "id": "49726daa-ca97-45f0-a0bd-abad24e82c47",
   "metadata": {},
   "outputs": [
    {
     "data": {
      "text/plain": [
       "array([ 60,  20,  70,  50, 190,  45,  90, 120,  30,  80, 160,  75, 180,\n",
       "        40,  85])"
      ]
     },
     "execution_count": 20,
     "metadata": {},
     "output_type": "execute_result"
    }
   ],
   "source": [
    "df[\"MSSubClass\"].unique()"
   ]
  },
  {
   "cell_type": "code",
   "execution_count": 21,
   "id": "833c2669-fe15-49ea-9ae6-57852b5b1e3a",
   "metadata": {},
   "outputs": [
    {
     "data": {
      "text/plain": [
       "array([5, 0, 5, ..., 6, 0, 0])"
      ]
     },
     "execution_count": 21,
     "metadata": {},
     "output_type": "execute_result"
    }
   ],
   "source": [
    "from sklearn.preprocessing import LabelEncoder\n",
    "lbl_encoders={}\n",
    "lbl_encoders[\"MSSubClass\"]=LabelEncoder()\n",
    "lbl_encoders[\"MSSubClass\"].fit_transform(df[\"MSSubClass\"])"
   ]
  },
  {
   "cell_type": "code",
   "execution_count": 24,
   "id": "d2ed2f94-9ecb-41e4-8af7-56b98b5fb216",
   "metadata": {},
   "outputs": [],
   "source": [
    "from sklearn.preprocessing import LabelEncoder\n",
    "lbl_encoders={}\n",
    "for feature in cat_features:\n",
    "    lbl_encoders[feature]=LabelEncoder()\n",
    "    df[feature]=lbl_encoders[feature].fit_transform(df[feature])"
   ]
  },
  {
   "cell_type": "code",
   "execution_count": 25,
   "id": "99a7ac39-5f40-4532-836c-522c661b13ce",
   "metadata": {},
   "outputs": [
    {
     "data": {
      "text/html": [
       "<div>\n",
       "<style scoped>\n",
       "    .dataframe tbody tr th:only-of-type {\n",
       "        vertical-align: middle;\n",
       "    }\n",
       "\n",
       "    .dataframe tbody tr th {\n",
       "        vertical-align: top;\n",
       "    }\n",
       "\n",
       "    .dataframe thead th {\n",
       "        text-align: right;\n",
       "    }\n",
       "</style>\n",
       "<table border=\"1\" class=\"dataframe\">\n",
       "  <thead>\n",
       "    <tr style=\"text-align: right;\">\n",
       "      <th></th>\n",
       "      <th>MSSubClass</th>\n",
       "      <th>MSZoning</th>\n",
       "      <th>LotFrontage</th>\n",
       "      <th>LotArea</th>\n",
       "      <th>Street</th>\n",
       "      <th>LotShape</th>\n",
       "      <th>1stFlrSF</th>\n",
       "      <th>2ndFlrSF</th>\n",
       "      <th>SalePrice</th>\n",
       "      <th>Total Years</th>\n",
       "    </tr>\n",
       "  </thead>\n",
       "  <tbody>\n",
       "    <tr>\n",
       "      <th>0</th>\n",
       "      <td>5</td>\n",
       "      <td>3</td>\n",
       "      <td>65.0</td>\n",
       "      <td>8450</td>\n",
       "      <td>1</td>\n",
       "      <td>3</td>\n",
       "      <td>856</td>\n",
       "      <td>854</td>\n",
       "      <td>208500</td>\n",
       "      <td>20</td>\n",
       "    </tr>\n",
       "    <tr>\n",
       "      <th>1</th>\n",
       "      <td>0</td>\n",
       "      <td>3</td>\n",
       "      <td>80.0</td>\n",
       "      <td>9600</td>\n",
       "      <td>1</td>\n",
       "      <td>3</td>\n",
       "      <td>1262</td>\n",
       "      <td>0</td>\n",
       "      <td>181500</td>\n",
       "      <td>47</td>\n",
       "    </tr>\n",
       "    <tr>\n",
       "      <th>2</th>\n",
       "      <td>5</td>\n",
       "      <td>3</td>\n",
       "      <td>68.0</td>\n",
       "      <td>11250</td>\n",
       "      <td>1</td>\n",
       "      <td>0</td>\n",
       "      <td>920</td>\n",
       "      <td>866</td>\n",
       "      <td>223500</td>\n",
       "      <td>22</td>\n",
       "    </tr>\n",
       "    <tr>\n",
       "      <th>3</th>\n",
       "      <td>6</td>\n",
       "      <td>3</td>\n",
       "      <td>60.0</td>\n",
       "      <td>9550</td>\n",
       "      <td>1</td>\n",
       "      <td>0</td>\n",
       "      <td>961</td>\n",
       "      <td>756</td>\n",
       "      <td>140000</td>\n",
       "      <td>108</td>\n",
       "    </tr>\n",
       "    <tr>\n",
       "      <th>4</th>\n",
       "      <td>5</td>\n",
       "      <td>3</td>\n",
       "      <td>84.0</td>\n",
       "      <td>14260</td>\n",
       "      <td>1</td>\n",
       "      <td>0</td>\n",
       "      <td>1145</td>\n",
       "      <td>1053</td>\n",
       "      <td>250000</td>\n",
       "      <td>23</td>\n",
       "    </tr>\n",
       "    <tr>\n",
       "      <th>...</th>\n",
       "      <td>...</td>\n",
       "      <td>...</td>\n",
       "      <td>...</td>\n",
       "      <td>...</td>\n",
       "      <td>...</td>\n",
       "      <td>...</td>\n",
       "      <td>...</td>\n",
       "      <td>...</td>\n",
       "      <td>...</td>\n",
       "      <td>...</td>\n",
       "    </tr>\n",
       "    <tr>\n",
       "      <th>1455</th>\n",
       "      <td>5</td>\n",
       "      <td>3</td>\n",
       "      <td>62.0</td>\n",
       "      <td>7917</td>\n",
       "      <td>1</td>\n",
       "      <td>3</td>\n",
       "      <td>953</td>\n",
       "      <td>694</td>\n",
       "      <td>175000</td>\n",
       "      <td>24</td>\n",
       "    </tr>\n",
       "    <tr>\n",
       "      <th>1456</th>\n",
       "      <td>0</td>\n",
       "      <td>3</td>\n",
       "      <td>85.0</td>\n",
       "      <td>13175</td>\n",
       "      <td>1</td>\n",
       "      <td>3</td>\n",
       "      <td>2073</td>\n",
       "      <td>0</td>\n",
       "      <td>210000</td>\n",
       "      <td>45</td>\n",
       "    </tr>\n",
       "    <tr>\n",
       "      <th>1457</th>\n",
       "      <td>6</td>\n",
       "      <td>3</td>\n",
       "      <td>66.0</td>\n",
       "      <td>9042</td>\n",
       "      <td>1</td>\n",
       "      <td>3</td>\n",
       "      <td>1188</td>\n",
       "      <td>1152</td>\n",
       "      <td>266500</td>\n",
       "      <td>82</td>\n",
       "    </tr>\n",
       "    <tr>\n",
       "      <th>1458</th>\n",
       "      <td>0</td>\n",
       "      <td>3</td>\n",
       "      <td>68.0</td>\n",
       "      <td>9717</td>\n",
       "      <td>1</td>\n",
       "      <td>3</td>\n",
       "      <td>1078</td>\n",
       "      <td>0</td>\n",
       "      <td>142125</td>\n",
       "      <td>73</td>\n",
       "    </tr>\n",
       "    <tr>\n",
       "      <th>1459</th>\n",
       "      <td>0</td>\n",
       "      <td>3</td>\n",
       "      <td>75.0</td>\n",
       "      <td>9937</td>\n",
       "      <td>1</td>\n",
       "      <td>3</td>\n",
       "      <td>1256</td>\n",
       "      <td>0</td>\n",
       "      <td>147500</td>\n",
       "      <td>58</td>\n",
       "    </tr>\n",
       "  </tbody>\n",
       "</table>\n",
       "<p>1201 rows × 10 columns</p>\n",
       "</div>"
      ],
      "text/plain": [
       "      MSSubClass  MSZoning  LotFrontage  LotArea  Street  LotShape  1stFlrSF  \\\n",
       "0              5         3         65.0     8450       1         3       856   \n",
       "1              0         3         80.0     9600       1         3      1262   \n",
       "2              5         3         68.0    11250       1         0       920   \n",
       "3              6         3         60.0     9550       1         0       961   \n",
       "4              5         3         84.0    14260       1         0      1145   \n",
       "...          ...       ...          ...      ...     ...       ...       ...   \n",
       "1455           5         3         62.0     7917       1         3       953   \n",
       "1456           0         3         85.0    13175       1         3      2073   \n",
       "1457           6         3         66.0     9042       1         3      1188   \n",
       "1458           0         3         68.0     9717       1         3      1078   \n",
       "1459           0         3         75.0     9937       1         3      1256   \n",
       "\n",
       "      2ndFlrSF  SalePrice  Total Years  \n",
       "0          854     208500           20  \n",
       "1            0     181500           47  \n",
       "2          866     223500           22  \n",
       "3          756     140000          108  \n",
       "4         1053     250000           23  \n",
       "...        ...        ...          ...  \n",
       "1455       694     175000           24  \n",
       "1456         0     210000           45  \n",
       "1457      1152     266500           82  \n",
       "1458         0     142125           73  \n",
       "1459         0     147500           58  \n",
       "\n",
       "[1201 rows x 10 columns]"
      ]
     },
     "execution_count": 25,
     "metadata": {},
     "output_type": "execute_result"
    }
   ],
   "source": [
    "df"
   ]
  },
  {
   "cell_type": "code",
   "execution_count": 26,
   "id": "1cfb91ba-3dd4-4812-9e2a-233f7fc736c0",
   "metadata": {},
   "outputs": [
    {
     "data": {
      "text/plain": [
       "array([[5, 3, 1, 3],\n",
       "       [0, 3, 1, 3],\n",
       "       [5, 3, 1, 0],\n",
       "       ...,\n",
       "       [6, 3, 1, 3],\n",
       "       [0, 3, 1, 3],\n",
       "       [0, 3, 1, 3]])"
      ]
     },
     "execution_count": 26,
     "metadata": {},
     "output_type": "execute_result"
    }
   ],
   "source": [
    "import numpy as np\n",
    "cat_features = np.stack([df['MSSubClass'],df['MSZoning'],df['Street'],df['LotShape']],1)\n",
    "cat_features"
   ]
  },
  {
   "cell_type": "code",
   "execution_count": 27,
   "id": "bec6367a-398b-4ed7-9169-08abdcf1f2bb",
   "metadata": {},
   "outputs": [
    {
     "data": {
      "text/plain": [
       "tensor([[5, 3, 1, 3],\n",
       "        [0, 3, 1, 3],\n",
       "        [5, 3, 1, 0],\n",
       "        ...,\n",
       "        [6, 3, 1, 3],\n",
       "        [0, 3, 1, 3],\n",
       "        [0, 3, 1, 3]])"
      ]
     },
     "execution_count": 27,
     "metadata": {},
     "output_type": "execute_result"
    }
   ],
   "source": [
    "#We converted the cat features into numpy arrays, now we are going to convert numy arrays into tensors\n",
    "\n",
    "import torch\n",
    "cat_features = torch.tensor(cat_features,dtype=torch.int64)\n",
    "cat_features"
   ]
  },
  {
   "cell_type": "code",
   "execution_count": 29,
   "id": "b339bc07-4b34-4933-b361-d34ac8b6a2e5",
   "metadata": {},
   "outputs": [],
   "source": [
    "### Crreate Continous Variables\n",
    "cont_features = []\n",
    "for i in df.columns:\n",
    "    if i in [\"MSSubClass\",\"MSZoning\",\"Street\",\"LotShape\"]:\n",
    "        pass\n",
    "    else:\n",
    "        cont_features.append(i)\n",
    "\n",
    "\n",
    "\n"
   ]
  },
  {
   "cell_type": "code",
   "execution_count": 38,
   "id": "61191834-94f3-4502-aada-b089b1402ea7",
   "metadata": {},
   "outputs": [],
   "source": [
    "cont_features = ['LotFrontage', 'LotArea', '1stFlrSF', '2ndFlrSF','Total Years']"
   ]
  },
  {
   "cell_type": "code",
   "execution_count": 39,
   "id": "46af8395-a228-42ab-9f01-43143123ea5e",
   "metadata": {},
   "outputs": [
    {
     "data": {
      "text/plain": [
       "tensor([[   65.,  8450.,   856.,   854.,    20.],\n",
       "        [   80.,  9600.,  1262.,     0.,    47.],\n",
       "        [   68., 11250.,   920.,   866.,    22.],\n",
       "        ...,\n",
       "        [   66.,  9042.,  1188.,  1152.,    82.],\n",
       "        [   68.,  9717.,  1078.,     0.,    73.],\n",
       "        [   75.,  9937.,  1256.,     0.,    58.]])"
      ]
     },
     "execution_count": 39,
     "metadata": {},
     "output_type": "execute_result"
    }
   ],
   "source": [
    "cont_values = np.stack([df[i].values for i in cont_features],axis=1)\n",
    "cont_values=torch.tensor(cont_values,dtype=torch.float)\n",
    "cont_values"
   ]
  },
  {
   "cell_type": "code",
   "execution_count": 40,
   "id": "669137b9-1d78-42f9-9624-2e2187e697bd",
   "metadata": {},
   "outputs": [
    {
     "data": {
      "text/plain": [
       "torch.float32"
      ]
     },
     "execution_count": 40,
     "metadata": {},
     "output_type": "execute_result"
    }
   ],
   "source": [
    "cont_values.dtype"
   ]
  },
  {
   "cell_type": "code",
   "execution_count": 41,
   "id": "491e3ab8-1a69-422f-afc1-f509d47fb625",
   "metadata": {},
   "outputs": [],
   "source": [
    "y = torch.tensor(df[\"SalePrice\"].values,dtype=torch.float).reshape(-1,1)"
   ]
  },
  {
   "cell_type": "code",
   "execution_count": 42,
   "id": "990bfc34-1a56-4c20-a787-05c6fe259157",
   "metadata": {},
   "outputs": [
    {
     "data": {
      "text/plain": [
       "tensor([[208500.],\n",
       "        [181500.],\n",
       "        [223500.],\n",
       "        ...,\n",
       "        [266500.],\n",
       "        [142125.],\n",
       "        [147500.]])"
      ]
     },
     "execution_count": 42,
     "metadata": {},
     "output_type": "execute_result"
    }
   ],
   "source": [
    "y"
   ]
  },
  {
   "cell_type": "code",
   "execution_count": 43,
   "id": "8a83e6f2-52fc-4456-b622-b62231dac3ab",
   "metadata": {},
   "outputs": [
    {
     "name": "stdout",
     "output_type": "stream",
     "text": [
      "<class 'pandas.core.frame.DataFrame'>\n",
      "Index: 1201 entries, 0 to 1459\n",
      "Data columns (total 10 columns):\n",
      " #   Column       Non-Null Count  Dtype  \n",
      "---  ------       --------------  -----  \n",
      " 0   MSSubClass   1201 non-null   int64  \n",
      " 1   MSZoning     1201 non-null   int64  \n",
      " 2   LotFrontage  1201 non-null   float64\n",
      " 3   LotArea      1201 non-null   int64  \n",
      " 4   Street       1201 non-null   int64  \n",
      " 5   LotShape     1201 non-null   int64  \n",
      " 6   1stFlrSF     1201 non-null   int64  \n",
      " 7   2ndFlrSF     1201 non-null   int64  \n",
      " 8   SalePrice    1201 non-null   int64  \n",
      " 9   Total Years  1201 non-null   int64  \n",
      "dtypes: float64(1), int64(9)\n",
      "memory usage: 103.2 KB\n"
     ]
    }
   ],
   "source": [
    "df.info()"
   ]
  },
  {
   "cell_type": "code",
   "execution_count": 44,
   "id": "ff4327f2-0e9d-4e64-9d6f-ae6d85e1f2ce",
   "metadata": {},
   "outputs": [
    {
     "data": {
      "text/plain": [
       "(torch.Size([1201, 4]), torch.Size([1201, 5]), torch.Size([1201, 1]))"
      ]
     },
     "execution_count": 44,
     "metadata": {},
     "output_type": "execute_result"
    }
   ],
   "source": [
    "cat_features.shape, cont_values.shape,y.shape"
   ]
  },
  {
   "cell_type": "code",
   "execution_count": 45,
   "id": "70f9410d-cf49-43e6-84c1-87cf7a5486ca",
   "metadata": {},
   "outputs": [
    {
     "data": {
      "text/plain": [
       "15"
      ]
     },
     "execution_count": 45,
     "metadata": {},
     "output_type": "execute_result"
    }
   ],
   "source": [
    "len(df['MSSubClass'].unique())"
   ]
  },
  {
   "cell_type": "code",
   "execution_count": 47,
   "id": "b875f6ad-770b-422a-a136-22c8e8ff4ddc",
   "metadata": {},
   "outputs": [
    {
     "data": {
      "text/plain": [
       "[15, 5, 2, 4]"
      ]
     },
     "execution_count": 47,
     "metadata": {},
     "output_type": "execute_result"
    }
   ],
   "source": [
    "cat_dims=[len(df[col].unique()) for col in [\"MSSubClass\",\"MSZoning\",\"Street\",\"LotShape\"]]\n",
    "cat_dims"
   ]
  },
  {
   "cell_type": "code",
   "execution_count": 48,
   "id": "7a634afa-d1de-49be-86f5-f6711593e004",
   "metadata": {},
   "outputs": [
    {
     "data": {
      "text/plain": [
       "[(15, 8), (5, 3), (2, 1), (4, 2)]"
      ]
     },
     "execution_count": 48,
     "metadata": {},
     "output_type": "execute_result"
    }
   ],
   "source": [
    "###Output dimension should be set based on the input dimension\n",
    "###It should be min(50,feature dimension/2)\n",
    "embedding_dim = [(x, min(50,(x+1)//2)) for x in cat_dims]\n",
    "embedding_dim\n",
    "\n",
    "\n",
    "\n",
    "###these were the data pre processing steps\n"
   ]
  },
  {
   "cell_type": "code",
   "execution_count": 49,
   "id": "62ca3931-9cdc-4bad-88d8-896458ddf3e0",
   "metadata": {},
   "outputs": [],
   "source": [
    "###Now we will be dealing with Neural network\n",
    "import torch\n",
    "import torch.nn as nn\n",
    "import torch.nn.functional as F\n",
    "embed_representation = nn.ModuleList([nn.Embedding(inp,out) for inp,out in embedding_dim]) \n"
   ]
  },
  {
   "cell_type": "code",
   "execution_count": 50,
   "id": "d470aa7d-c3a1-40fb-9231-8795e381d450",
   "metadata": {},
   "outputs": [
    {
     "data": {
      "text/plain": [
       "ModuleList(\n",
       "  (0): Embedding(15, 8)\n",
       "  (1): Embedding(5, 3)\n",
       "  (2): Embedding(2, 1)\n",
       "  (3): Embedding(4, 2)\n",
       ")"
      ]
     },
     "execution_count": 50,
     "metadata": {},
     "output_type": "execute_result"
    }
   ],
   "source": [
    "embed_representation"
   ]
  },
  {
   "cell_type": "code",
   "execution_count": 51,
   "id": "ee40b886-3081-4442-8a95-77a1fe551c2b",
   "metadata": {},
   "outputs": [
    {
     "data": {
      "text/plain": [
       "tensor([[5, 3, 1, 3],\n",
       "        [0, 3, 1, 3],\n",
       "        [5, 3, 1, 0],\n",
       "        ...,\n",
       "        [6, 3, 1, 3],\n",
       "        [0, 3, 1, 3],\n",
       "        [0, 3, 1, 3]])"
      ]
     },
     "execution_count": 51,
     "metadata": {},
     "output_type": "execute_result"
    }
   ],
   "source": [
    "cat_features"
   ]
  },
  {
   "cell_type": "code",
   "execution_count": 52,
   "id": "535e48bf-557f-47f8-a78f-1a0c3797aad0",
   "metadata": {},
   "outputs": [],
   "source": [
    "cat_featuresz=cat_features[:4]"
   ]
  },
  {
   "cell_type": "code",
   "execution_count": 53,
   "id": "b95093d4-a702-4203-806b-9953b461e411",
   "metadata": {},
   "outputs": [
    {
     "data": {
      "text/plain": [
       "tensor([[5, 3, 1, 3],\n",
       "        [0, 3, 1, 3],\n",
       "        [5, 3, 1, 0],\n",
       "        [6, 3, 1, 0]])"
      ]
     },
     "execution_count": 53,
     "metadata": {},
     "output_type": "execute_result"
    }
   ],
   "source": [
    "cat_featuresz"
   ]
  },
  {
   "cell_type": "code",
   "execution_count": 54,
   "id": "f65ff496-812f-41dd-8ce8-631c654be56d",
   "metadata": {},
   "outputs": [],
   "source": [
    "pd.set_option('display.max_rows', 500)\n",
    "embedding_val = []\n",
    "for i,e in enumerate(embed_representation):\n",
    "    embedding_val.append(e(cat_features[:,i]))\n",
    "    "
   ]
  },
  {
   "cell_type": "code",
   "execution_count": 55,
   "id": "1fe86c5d-1f18-4cde-84ea-6dbaf3b0798e",
   "metadata": {},
   "outputs": [
    {
     "data": {
      "text/plain": [
       "[tensor([[ 0.6039,  1.4601, -0.1042,  ...,  0.5993,  0.0503, -0.4852],\n",
       "         [-0.2913,  0.1974, -0.7821,  ...,  0.0655,  0.3408,  1.9668],\n",
       "         [ 0.6039,  1.4601, -0.1042,  ...,  0.5993,  0.0503, -0.4852],\n",
       "         ...,\n",
       "         [-0.3359, -0.1542, -0.8873,  ..., -0.1793, -0.5246, -1.3044],\n",
       "         [-0.2913,  0.1974, -0.7821,  ...,  0.0655,  0.3408,  1.9668],\n",
       "         [-0.2913,  0.1974, -0.7821,  ...,  0.0655,  0.3408,  1.9668]],\n",
       "        grad_fn=<EmbeddingBackward0>),\n",
       " tensor([[ 0.6304, -0.5570,  1.2805],\n",
       "         [ 0.6304, -0.5570,  1.2805],\n",
       "         [ 0.6304, -0.5570,  1.2805],\n",
       "         ...,\n",
       "         [ 0.6304, -0.5570,  1.2805],\n",
       "         [ 0.6304, -0.5570,  1.2805],\n",
       "         [ 0.6304, -0.5570,  1.2805]], grad_fn=<EmbeddingBackward0>),\n",
       " tensor([[-2.6019],\n",
       "         [-2.6019],\n",
       "         [-2.6019],\n",
       "         ...,\n",
       "         [-2.6019],\n",
       "         [-2.6019],\n",
       "         [-2.6019]], grad_fn=<EmbeddingBackward0>),\n",
       " tensor([[0.1214, 0.3700],\n",
       "         [0.1214, 0.3700],\n",
       "         [0.0224, 1.2223],\n",
       "         ...,\n",
       "         [0.1214, 0.3700],\n",
       "         [0.1214, 0.3700],\n",
       "         [0.1214, 0.3700]], grad_fn=<EmbeddingBackward0>)]"
      ]
     },
     "execution_count": 55,
     "metadata": {},
     "output_type": "execute_result"
    }
   ],
   "source": [
    "embedding_val"
   ]
  },
  {
   "cell_type": "code",
   "execution_count": 56,
   "id": "c88c622b-150a-4ba4-8f66-1d51b0d69da5",
   "metadata": {},
   "outputs": [],
   "source": [
    "z = torch.cat(embedding_val, 1)"
   ]
  },
  {
   "cell_type": "code",
   "execution_count": 58,
   "id": "9427ddcf-e337-4319-a9c0-b944ae9be6cf",
   "metadata": {},
   "outputs": [
    {
     "data": {
      "text/plain": [
       "torch.Size([1201, 14])"
      ]
     },
     "execution_count": 58,
     "metadata": {},
     "output_type": "execute_result"
    }
   ],
   "source": [
    "z.shape"
   ]
  },
  {
   "cell_type": "code",
   "execution_count": 59,
   "id": "51f098bb-8f6d-405c-ae17-924fdf1d4e7c",
   "metadata": {},
   "outputs": [],
   "source": [
    "### Implementing the dropout layer\n",
    "#\n",
    "dropout = nn.Dropout(.4)"
   ]
  },
  {
   "cell_type": "code",
   "execution_count": 60,
   "id": "eb9680fa-70cf-4497-907e-e6112b21e3ab",
   "metadata": {},
   "outputs": [
    {
     "data": {
      "text/plain": [
       "tensor([[ 0.0000,  2.4335, -0.1737,  ..., -0.0000,  0.2023,  0.6167],\n",
       "        [-0.4855,  0.3289, -1.3035,  ..., -0.0000,  0.2023,  0.0000],\n",
       "        [ 1.0066,  2.4335, -0.1737,  ..., -4.3365,  0.0000,  2.0371],\n",
       "        ...,\n",
       "        [-0.5598, -0.2569, -0.0000,  ..., -4.3365,  0.2023,  0.0000],\n",
       "        [-0.4855,  0.3289, -1.3035,  ..., -4.3365,  0.2023,  0.6167],\n",
       "        [-0.4855,  0.3289, -1.3035,  ..., -0.0000,  0.0000,  0.6167]],\n",
       "       grad_fn=<MulBackward0>)"
      ]
     },
     "execution_count": 60,
     "metadata": {},
     "output_type": "execute_result"
    }
   ],
   "source": [
    "final_embed = dropout(z)\n",
    "final_embed"
   ]
  },
  {
   "cell_type": "code",
   "execution_count": 75,
   "id": "98bbf154-172f-4101-bc00-fc9d247af92d",
   "metadata": {},
   "outputs": [],
   "source": [
    "### Now we will create our neural network\n",
    "class FeedForwardNN(nn.Module):\n",
    "    def __init__(self, embedding_dim, n_count, out_sz, layers, p = 0.5):\n",
    "        super().__init__()\n",
    "        self.embeds = nn.ModuleList([nn.Embedding(inp,out) for inp,out in embedding_dim])\n",
    "        self.emb_drop = nn.Dropout(p)\n",
    "        self.bn_cont = nn.BatchNorm1d(n_count)\n",
    "\n",
    "        layerlist = []\n",
    "        n_emb = sum((out for inp,out in embedding_dim))\n",
    "        n_in = n_emb + n_count\n",
    "\n",
    "        for i in layers:\n",
    "            layerlist.append(nn.Linear(n_in,i))\n",
    "            layerlist.append(nn.ReLU(inplace=True))\n",
    "            layerlist.append(nn.BatchNorm1d(i))\n",
    "            layerlist.append(nn.Dropout(p))\n",
    "            n_in = i\n",
    "\n",
    "        layerlist.append(nn.Linear(layers[-1],out_sz))\n",
    "        self.layers = nn.Sequential(*layerlist)\n",
    "\n",
    "\n",
    "    def forward(self, x_cat, x_cont):\n",
    "        embeddings = []\n",
    "        for i,e in enumerate(self.embeds):\n",
    "            embeddings.append(e(x_cat[:,i]))\n",
    "        x = torch.cat(embeddings, 1)\n",
    "        x = self.emb_drop(x)\n",
    "\n",
    "        x_cont = self.bn_cont(x_cont)\n",
    "        x = torch.cat([x, x_cont],1)\n",
    "        x = self.layers(x)\n",
    "        return x\n",
    "        "
   ]
  },
  {
   "cell_type": "code",
   "execution_count": 76,
   "id": "463c2858-4b0a-4071-880f-8bff1f210d6b",
   "metadata": {},
   "outputs": [
    {
     "data": {
      "text/plain": [
       "5"
      ]
     },
     "execution_count": 76,
     "metadata": {},
     "output_type": "execute_result"
    }
   ],
   "source": [
    "len(cont_features)\n"
   ]
  },
  {
   "cell_type": "code",
   "execution_count": 77,
   "id": "c1bd69ec-0da0-4ed6-808e-d25d7bf82ca0",
   "metadata": {},
   "outputs": [],
   "source": [
    "torch.manual_seed(100)\n",
    "model = FeedForwardNN(embedding_dim,len(cont_features),1,[100,50],p = 0.4)"
   ]
  },
  {
   "cell_type": "code",
   "execution_count": 78,
   "id": "8d37d8a4-3c19-43e4-99cd-eeeaa458ab9b",
   "metadata": {},
   "outputs": [
    {
     "data": {
      "text/plain": [
       "FeedForwardNN(\n",
       "  (embeds): ModuleList(\n",
       "    (0): Embedding(15, 8)\n",
       "    (1): Embedding(5, 3)\n",
       "    (2): Embedding(2, 1)\n",
       "    (3): Embedding(4, 2)\n",
       "  )\n",
       "  (emb_drop): Dropout(p=0.4, inplace=False)\n",
       "  (bn_cont): BatchNorm1d(5, eps=1e-05, momentum=0.1, affine=True, track_running_stats=True)\n",
       "  (layers): Sequential(\n",
       "    (0): Linear(in_features=19, out_features=100, bias=True)\n",
       "    (1): ReLU(inplace=True)\n",
       "    (2): BatchNorm1d(100, eps=1e-05, momentum=0.1, affine=True, track_running_stats=True)\n",
       "    (3): Dropout(p=0.4, inplace=False)\n",
       "    (4): Linear(in_features=100, out_features=50, bias=True)\n",
       "    (5): ReLU(inplace=True)\n",
       "    (6): BatchNorm1d(50, eps=1e-05, momentum=0.1, affine=True, track_running_stats=True)\n",
       "    (7): Dropout(p=0.4, inplace=False)\n",
       "    (8): Linear(in_features=50, out_features=1, bias=True)\n",
       "  )\n",
       ")"
      ]
     },
     "execution_count": 78,
     "metadata": {},
     "output_type": "execute_result"
    }
   ],
   "source": [
    "model"
   ]
  },
  {
   "cell_type": "code",
   "execution_count": 79,
   "id": "41554b8f-fbe7-40ec-b6f0-ca81d23ed1bc",
   "metadata": {},
   "outputs": [],
   "source": [
    "loss_function = nn.MSELoss()\n",
    "optimizer = torch.optim.Adam(model.parameters(),lr=0.01)"
   ]
  },
  {
   "cell_type": "code",
   "execution_count": 80,
   "id": "ff7cc4f6-c3b1-4e4e-bf5e-86667ff8aeac",
   "metadata": {},
   "outputs": [
    {
     "data": {
      "text/plain": [
       "(1201, 10)"
      ]
     },
     "execution_count": 80,
     "metadata": {},
     "output_type": "execute_result"
    }
   ],
   "source": [
    "df.shape"
   ]
  },
  {
   "cell_type": "code",
   "execution_count": 81,
   "id": "4f71ddd1-9706-4e42-9811-2db81f25012c",
   "metadata": {},
   "outputs": [
    {
     "data": {
      "text/plain": [
       "tensor([[   65.,  8450.,   856.,   854.,    20.],\n",
       "        [   80.,  9600.,  1262.,     0.,    47.],\n",
       "        [   68., 11250.,   920.,   866.,    22.],\n",
       "        ...,\n",
       "        [   66.,  9042.,  1188.,  1152.,    82.],\n",
       "        [   68.,  9717.,  1078.,     0.,    73.],\n",
       "        [   75.,  9937.,  1256.,     0.,    58.]])"
      ]
     },
     "execution_count": 81,
     "metadata": {},
     "output_type": "execute_result"
    }
   ],
   "source": [
    "cont_values\n"
   ]
  },
  {
   "cell_type": "code",
   "execution_count": 82,
   "id": "6ffd228d-69d9-4364-b7c1-bc29c37fda1a",
   "metadata": {},
   "outputs": [
    {
     "data": {
      "text/plain": [
       "torch.Size([1201, 5])"
      ]
     },
     "execution_count": 82,
     "metadata": {},
     "output_type": "execute_result"
    }
   ],
   "source": [
    "cont_values.shape"
   ]
  },
  {
   "cell_type": "code",
   "execution_count": 83,
   "id": "6351789c-3701-4177-82bd-ad786dd9f3c9",
   "metadata": {},
   "outputs": [],
   "source": [
    "batch_size=1200\n",
    "test_size=int(batch_size*0.15)\n",
    "train_categorical=cat_features[:batch_size-test_size]\n",
    "test_categorical=cat_features[batch_size-test_size:batch_size]\n",
    "train_cont=cont_values[:batch_size-test_size]\n",
    "test_cont=cont_values[batch_size-test_size:batch_size]\n",
    "y_train=y[:batch_size-test_size]\n",
    "y_test=y[batch_size-test_size:batch_size]"
   ]
  },
  {
   "cell_type": "code",
   "execution_count": 84,
   "id": "7e8c6739-b14e-4890-98af-d4da0c952e20",
   "metadata": {},
   "outputs": [
    {
     "data": {
      "text/plain": [
       "(1020, 180, 1020, 180, 1020, 180)"
      ]
     },
     "execution_count": 84,
     "metadata": {},
     "output_type": "execute_result"
    }
   ],
   "source": [
    "len(train_categorical),len(test_categorical),len(train_cont),len(test_cont),len(y_train),len(y_test)\n"
   ]
  },
  {
   "cell_type": "code",
   "execution_count": 102,
   "id": "79cbab3b-e4a7-49e2-aa44-173f47677514",
   "metadata": {},
   "outputs": [],
   "source": [
    "for i in range(epochs):\n",
    "    final_losses[i] = final_losses[i].detach().numpy()"
   ]
  },
  {
   "cell_type": "code",
   "execution_count": 97,
   "id": "c02b58e0-761f-472a-bdf9-759b61f49f43",
   "metadata": {},
   "outputs": [
    {
     "data": {
      "text/plain": [
       "Text(0.5, 0, 'epoch')"
      ]
     },
     "execution_count": 97,
     "metadata": {},
     "output_type": "execute_result"
    },
    {
     "data": {
      "image/png": "[encoded data removed]",
      "text/plain": [
       "<Figure size 640x480 with 1 Axes>"
      ]
     },
     "metadata": {},
     "output_type": "display_data"
    }
   ],
   "source": []
  },
  {
   "cell_type": "code",
   "execution_count": 100,
   "id": "b57535c8-8373-441b-ac78-3892efbcbbd0",
   "metadata": {},
   "outputs": [
    {
     "name": "stdout",
     "output_type": "stream",
     "text": [
      "Epoch number: 1 and the loss: 36025.31640625\n",
      "Epoch number: 11 and the loss: 36316.1328125\n",
      "Epoch number: 21 and the loss: 34822.9140625\n",
      "Epoch number: 31 and the loss: 35646.40625\n",
      "Epoch number: 41 and the loss: 35674.8515625\n",
      "Epoch number: 51 and the loss: 36501.9453125\n",
      "Epoch number: 61 and the loss: 34823.07421875\n",
      "Epoch number: 71 and the loss: 36074.265625\n",
      "Epoch number: 81 and the loss: 34687.96484375\n",
      "Epoch number: 91 and the loss: 34647.16796875\n",
      "Epoch number: 101 and the loss: 35084.3515625\n",
      "Epoch number: 111 and the loss: 35668.5078125\n",
      "Epoch number: 121 and the loss: 33930.29296875\n",
      "Epoch number: 131 and the loss: 34193.7890625\n",
      "Epoch number: 141 and the loss: 34507.5390625\n",
      "Epoch number: 151 and the loss: 37651.25390625\n",
      "Epoch number: 161 and the loss: 42750.91015625\n",
      "Epoch number: 171 and the loss: 35539.65625\n",
      "Epoch number: 181 and the loss: 34266.62109375\n",
      "Epoch number: 191 and the loss: 34696.8125\n",
      "Epoch number: 201 and the loss: 33663.75\n",
      "Epoch number: 211 and the loss: 34236.375\n",
      "Epoch number: 221 and the loss: 34800.8515625\n",
      "Epoch number: 231 and the loss: 35423.91796875\n",
      "Epoch number: 241 and the loss: 37101.2890625\n",
      "Epoch number: 251 and the loss: 35383.39453125\n",
      "Epoch number: 261 and the loss: 36428.32421875\n",
      "Epoch number: 271 and the loss: 35316.6640625\n",
      "Epoch number: 281 and the loss: 33441.38671875\n",
      "Epoch number: 291 and the loss: 35066.4375\n",
      "Epoch number: 301 and the loss: 33922.40625\n",
      "Epoch number: 311 and the loss: 35034.05859375\n",
      "Epoch number: 321 and the loss: 34071.30078125\n",
      "Epoch number: 331 and the loss: 35559.484375\n",
      "Epoch number: 341 and the loss: 38732.7265625\n",
      "Epoch number: 351 and the loss: 34312.2421875\n",
      "Epoch number: 361 and the loss: 35891.640625\n",
      "Epoch number: 371 and the loss: 36703.80859375\n",
      "Epoch number: 381 and the loss: 33758.390625\n",
      "Epoch number: 391 and the loss: 33898.1640625\n",
      "Epoch number: 401 and the loss: 35365.9609375\n",
      "Epoch number: 411 and the loss: 35967.72265625\n",
      "Epoch number: 421 and the loss: 35118.88671875\n",
      "Epoch number: 431 and the loss: 35265.8203125\n",
      "Epoch number: 441 and the loss: 33923.48046875\n",
      "Epoch number: 451 and the loss: 33521.00390625\n",
      "Epoch number: 461 and the loss: 33539.65625\n",
      "Epoch number: 471 and the loss: 34851.76953125\n",
      "Epoch number: 481 and the loss: 37234.0078125\n",
      "Epoch number: 491 and the loss: 33698.01171875\n",
      "Epoch number: 501 and the loss: 34543.296875\n",
      "Epoch number: 511 and the loss: 34627.37109375\n",
      "Epoch number: 521 and the loss: 36164.83984375\n",
      "Epoch number: 531 and the loss: 34130.76171875\n",
      "Epoch number: 541 and the loss: 33325.46484375\n",
      "Epoch number: 551 and the loss: 34844.60546875\n",
      "Epoch number: 561 and the loss: 35803.57421875\n",
      "Epoch number: 571 and the loss: 35830.9140625\n",
      "Epoch number: 581 and the loss: 34048.11328125\n",
      "Epoch number: 591 and the loss: 36368.30078125\n",
      "Epoch number: 601 and the loss: 36872.94140625\n",
      "Epoch number: 611 and the loss: 34792.36328125\n",
      "Epoch number: 621 and the loss: 34924.2265625\n",
      "Epoch number: 631 and the loss: 34541.7734375\n",
      "Epoch number: 641 and the loss: 33874.14453125\n",
      "Epoch number: 651 and the loss: 35895.94140625\n",
      "Epoch number: 661 and the loss: 35695.35546875\n",
      "Epoch number: 671 and the loss: 36021.02734375\n",
      "Epoch number: 681 and the loss: 33275.1796875\n",
      "Epoch number: 691 and the loss: 37648.77734375\n",
      "Epoch number: 701 and the loss: 32774.61328125\n",
      "Epoch number: 711 and the loss: 34192.1640625\n",
      "Epoch number: 721 and the loss: 34025.39453125\n",
      "Epoch number: 731 and the loss: 35878.75\n",
      "Epoch number: 741 and the loss: 34240.67578125\n",
      "Epoch number: 751 and the loss: 34145.53515625\n",
      "Epoch number: 761 and the loss: 36811.34375\n",
      "Epoch number: 771 and the loss: 36513.28125\n",
      "Epoch number: 781 and the loss: 35549.8515625\n",
      "Epoch number: 791 and the loss: 34874.4609375\n",
      "Epoch number: 801 and the loss: 36445.72265625\n",
      "Epoch number: 811 and the loss: 34905.796875\n",
      "Epoch number: 821 and the loss: 34814.5703125\n",
      "Epoch number: 831 and the loss: 35288.0\n",
      "Epoch number: 841 and the loss: 33402.609375\n",
      "Epoch number: 851 and the loss: 34320.828125\n",
      "Epoch number: 861 and the loss: 36160.90234375\n",
      "Epoch number: 871 and the loss: 34776.484375\n",
      "Epoch number: 881 and the loss: 34697.7734375\n",
      "Epoch number: 891 and the loss: 35037.8984375\n",
      "Epoch number: 901 and the loss: 34908.2578125\n",
      "Epoch number: 911 and the loss: 34140.84375\n",
      "Epoch number: 921 and the loss: 36062.6640625\n",
      "Epoch number: 931 and the loss: 36339.3046875\n",
      "Epoch number: 941 and the loss: 33581.5234375\n",
      "Epoch number: 951 and the loss: 34760.7109375\n",
      "Epoch number: 961 and the loss: 34523.046875\n",
      "Epoch number: 971 and the loss: 34568.4453125\n",
      "Epoch number: 981 and the loss: 34127.60546875\n",
      "Epoch number: 991 and the loss: 34468.65234375\n",
      "Epoch number: 1001 and the loss: 36822.98046875\n",
      "Epoch number: 1011 and the loss: 33020.8984375\n",
      "Epoch number: 1021 and the loss: 33908.7265625\n",
      "Epoch number: 1031 and the loss: 35122.99609375\n",
      "Epoch number: 1041 and the loss: 32921.96875\n",
      "Epoch number: 1051 and the loss: 35695.03515625\n",
      "Epoch number: 1061 and the loss: 34239.06640625\n",
      "Epoch number: 1071 and the loss: 33811.08203125\n",
      "Epoch number: 1081 and the loss: 34153.46484375\n",
      "Epoch number: 1091 and the loss: 34691.9921875\n",
      "Epoch number: 1101 and the loss: 34235.90625\n",
      "Epoch number: 1111 and the loss: 36228.078125\n",
      "Epoch number: 1121 and the loss: 37766.1875\n",
      "Epoch number: 1131 and the loss: 36009.58984375\n",
      "Epoch number: 1141 and the loss: 35109.4921875\n",
      "Epoch number: 1151 and the loss: 33156.84375\n",
      "Epoch number: 1161 and the loss: 34492.90234375\n",
      "Epoch number: 1171 and the loss: 33814.53515625\n",
      "Epoch number: 1181 and the loss: 32976.70703125\n",
      "Epoch number: 1191 and the loss: 34902.23828125\n",
      "Epoch number: 1201 and the loss: 35815.8203125\n",
      "Epoch number: 1211 and the loss: 35058.34765625\n",
      "Epoch number: 1221 and the loss: 33282.4375\n",
      "Epoch number: 1231 and the loss: 39476.60546875\n",
      "Epoch number: 1241 and the loss: 34241.96484375\n",
      "Epoch number: 1251 and the loss: 35142.37109375\n",
      "Epoch number: 1261 and the loss: 35154.7109375\n",
      "Epoch number: 1271 and the loss: 35720.15625\n",
      "Epoch number: 1281 and the loss: 32772.359375\n",
      "Epoch number: 1291 and the loss: 33413.3203125\n",
      "Epoch number: 1301 and the loss: 33503.76953125\n",
      "Epoch number: 1311 and the loss: 35441.7578125\n",
      "Epoch number: 1321 and the loss: 34450.9921875\n",
      "Epoch number: 1331 and the loss: 33716.984375\n",
      "Epoch number: 1341 and the loss: 32397.177734375\n",
      "Epoch number: 1351 and the loss: 34776.17578125\n",
      "Epoch number: 1361 and the loss: 35201.59765625\n",
      "Epoch number: 1371 and the loss: 34235.5390625\n",
      "Epoch number: 1381 and the loss: 32770.59375\n",
      "Epoch number: 1391 and the loss: 33985.33203125\n",
      "Epoch number: 1401 and the loss: 34122.99609375\n",
      "Epoch number: 1411 and the loss: 33674.171875\n",
      "Epoch number: 1421 and the loss: 33368.15625\n",
      "Epoch number: 1431 and the loss: 33093.78515625\n",
      "Epoch number: 1441 and the loss: 34232.70703125\n",
      "Epoch number: 1451 and the loss: 33768.94921875\n",
      "Epoch number: 1461 and the loss: 33632.05859375\n",
      "Epoch number: 1471 and the loss: 35161.03515625\n",
      "Epoch number: 1481 and the loss: 34733.66015625\n",
      "Epoch number: 1491 and the loss: 33981.5625\n",
      "Epoch number: 1501 and the loss: 32421.599609375\n",
      "Epoch number: 1511 and the loss: 34220.27734375\n",
      "Epoch number: 1521 and the loss: 35661.47265625\n",
      "Epoch number: 1531 and the loss: 35226.3984375\n",
      "Epoch number: 1541 and the loss: 35165.08984375\n",
      "Epoch number: 1551 and the loss: 32739.080078125\n",
      "Epoch number: 1561 and the loss: 34281.61328125\n",
      "Epoch number: 1571 and the loss: 34900.72265625\n",
      "Epoch number: 1581 and the loss: 34340.609375\n",
      "Epoch number: 1591 and the loss: 35021.55078125\n",
      "Epoch number: 1601 and the loss: 34294.890625\n",
      "Epoch number: 1611 and the loss: 35005.69140625\n",
      "Epoch number: 1621 and the loss: 34247.953125\n",
      "Epoch number: 1631 and the loss: 35005.55859375\n",
      "Epoch number: 1641 and the loss: 36246.04296875\n",
      "Epoch number: 1651 and the loss: 33007.1953125\n",
      "Epoch number: 1661 and the loss: 34975.75\n",
      "Epoch number: 1671 and the loss: 34158.109375\n",
      "Epoch number: 1681 and the loss: 35572.640625\n",
      "Epoch number: 1691 and the loss: 33882.8984375\n",
      "Epoch number: 1701 and the loss: 34514.91796875\n",
      "Epoch number: 1711 and the loss: 33959.5078125\n",
      "Epoch number: 1721 and the loss: 34517.6484375\n",
      "Epoch number: 1731 and the loss: 34357.98046875\n",
      "Epoch number: 1741 and the loss: 34489.37890625\n",
      "Epoch number: 1751 and the loss: 33971.453125\n",
      "Epoch number: 1761 and the loss: 33814.83203125\n",
      "Epoch number: 1771 and the loss: 34613.5859375\n",
      "Epoch number: 1781 and the loss: 32957.5625\n",
      "Epoch number: 1791 and the loss: 35255.84765625\n",
      "Epoch number: 1801 and the loss: 32183.791015625\n",
      "Epoch number: 1811 and the loss: 33521.06640625\n",
      "Epoch number: 1821 and the loss: 34376.046875\n",
      "Epoch number: 1831 and the loss: 34262.3515625\n",
      "Epoch number: 1841 and the loss: 34693.3359375\n",
      "Epoch number: 1851 and the loss: 34666.58203125\n",
      "Epoch number: 1861 and the loss: 32590.02734375\n",
      "Epoch number: 1871 and the loss: 34512.00390625\n",
      "Epoch number: 1881 and the loss: 35300.7578125\n",
      "Epoch number: 1891 and the loss: 36110.6953125\n",
      "Epoch number: 1901 and the loss: 34066.02734375\n",
      "Epoch number: 1911 and the loss: 33724.69921875\n",
      "Epoch number: 1921 and the loss: 33897.3515625\n",
      "Epoch number: 1931 and the loss: 35150.34375\n",
      "Epoch number: 1941 and the loss: 33562.28125\n",
      "Epoch number: 1951 and the loss: 35371.55859375\n",
      "Epoch number: 1961 and the loss: 33816.17578125\n",
      "Epoch number: 1971 and the loss: 32314.025390625\n",
      "Epoch number: 1981 and the loss: 34814.484375\n",
      "Epoch number: 1991 and the loss: 33659.53515625\n",
      "Epoch number: 2001 and the loss: 33820.16796875\n",
      "Epoch number: 2011 and the loss: 33348.73046875\n",
      "Epoch number: 2021 and the loss: 33689.96484375\n",
      "Epoch number: 2031 and the loss: 34039.28515625\n",
      "Epoch number: 2041 and the loss: 35208.65234375\n",
      "Epoch number: 2051 and the loss: 33713.19921875\n",
      "Epoch number: 2061 and the loss: 32611.58203125\n",
      "Epoch number: 2071 and the loss: 35175.30078125\n",
      "Epoch number: 2081 and the loss: 34676.703125\n",
      "Epoch number: 2091 and the loss: 35141.78125\n",
      "Epoch number: 2101 and the loss: 32683.869140625\n",
      "Epoch number: 2111 and the loss: 34073.6796875\n",
      "Epoch number: 2121 and the loss: 31791.8515625\n",
      "Epoch number: 2131 and the loss: 34381.609375\n",
      "Epoch number: 2141 and the loss: 35257.5859375\n",
      "Epoch number: 2151 and the loss: 33451.54296875\n",
      "Epoch number: 2161 and the loss: 34069.2265625\n",
      "Epoch number: 2171 and the loss: 33976.359375\n",
      "Epoch number: 2181 and the loss: 34560.75\n",
      "Epoch number: 2191 and the loss: 33683.23828125\n",
      "Epoch number: 2201 and the loss: 33981.83984375\n",
      "Epoch number: 2211 and the loss: 33335.44921875\n",
      "Epoch number: 2221 and the loss: 34151.1484375\n",
      "Epoch number: 2231 and the loss: 34231.6171875\n",
      "Epoch number: 2241 and the loss: 34662.82421875\n",
      "Epoch number: 2251 and the loss: 33199.7890625\n",
      "Epoch number: 2261 and the loss: 33257.578125\n",
      "Epoch number: 2271 and the loss: 35167.23046875\n",
      "Epoch number: 2281 and the loss: 34144.0\n",
      "Epoch number: 2291 and the loss: 35643.86328125\n",
      "Epoch number: 2301 and the loss: 33766.0234375\n",
      "Epoch number: 2311 and the loss: 34833.5703125\n",
      "Epoch number: 2321 and the loss: 35423.10546875\n",
      "Epoch number: 2331 and the loss: 34029.0625\n",
      "Epoch number: 2341 and the loss: 33346.66015625\n",
      "Epoch number: 2351 and the loss: 36354.140625\n",
      "Epoch number: 2361 and the loss: 33068.2734375\n",
      "Epoch number: 2371 and the loss: 33977.37890625\n",
      "Epoch number: 2381 and the loss: 34324.44140625\n",
      "Epoch number: 2391 and the loss: 34780.87109375\n",
      "Epoch number: 2401 and the loss: 33549.27734375\n",
      "Epoch number: 2411 and the loss: 33556.15625\n",
      "Epoch number: 2421 and the loss: 34882.53515625\n",
      "Epoch number: 2431 and the loss: 33093.4375\n",
      "Epoch number: 2441 and the loss: 33560.515625\n",
      "Epoch number: 2451 and the loss: 35786.2265625\n",
      "Epoch number: 2461 and the loss: 32263.689453125\n",
      "Epoch number: 2471 and the loss: 34458.70703125\n",
      "Epoch number: 2481 and the loss: 34240.5625\n",
      "Epoch number: 2491 and the loss: 33837.10546875\n",
      "Epoch number: 2501 and the loss: 35226.03125\n",
      "Epoch number: 2511 and the loss: 33484.953125\n",
      "Epoch number: 2521 and the loss: 35012.97265625\n",
      "Epoch number: 2531 and the loss: 35019.4140625\n",
      "Epoch number: 2541 and the loss: 34144.37890625\n",
      "Epoch number: 2551 and the loss: 36260.04296875\n",
      "Epoch number: 2561 and the loss: 33643.9453125\n",
      "Epoch number: 2571 and the loss: 34181.171875\n",
      "Epoch number: 2581 and the loss: 33883.20703125\n",
      "Epoch number: 2591 and the loss: 34119.73046875\n",
      "Epoch number: 2601 and the loss: 32792.41015625\n",
      "Epoch number: 2611 and the loss: 31799.3203125\n",
      "Epoch number: 2621 and the loss: 34448.3125\n",
      "Epoch number: 2631 and the loss: 34162.91015625\n",
      "Epoch number: 2641 and the loss: 32885.04296875\n",
      "Epoch number: 2651 and the loss: 33435.91796875\n",
      "Epoch number: 2661 and the loss: 35213.2890625\n",
      "Epoch number: 2671 and the loss: 34168.58984375\n",
      "Epoch number: 2681 and the loss: 31965.42578125\n",
      "Epoch number: 2691 and the loss: 34225.515625\n",
      "Epoch number: 2701 and the loss: 34299.0625\n",
      "Epoch number: 2711 and the loss: 32983.734375\n",
      "Epoch number: 2721 and the loss: 33621.93359375\n",
      "Epoch number: 2731 and the loss: 35170.20703125\n",
      "Epoch number: 2741 and the loss: 33658.75390625\n",
      "Epoch number: 2751 and the loss: 34054.15234375\n",
      "Epoch number: 2761 and the loss: 34453.17578125\n",
      "Epoch number: 2771 and the loss: 34136.93359375\n",
      "Epoch number: 2781 and the loss: 32561.466796875\n",
      "Epoch number: 2791 and the loss: 34767.9140625\n",
      "Epoch number: 2801 and the loss: 34512.84765625\n",
      "Epoch number: 2811 and the loss: 33789.78125\n",
      "Epoch number: 2821 and the loss: 35193.13671875\n",
      "Epoch number: 2831 and the loss: 35163.28515625\n",
      "Epoch number: 2841 and the loss: 33461.91796875\n",
      "Epoch number: 2851 and the loss: 34596.51171875\n",
      "Epoch number: 2861 and the loss: 34605.5625\n",
      "Epoch number: 2871 and the loss: 34393.84375\n",
      "Epoch number: 2881 and the loss: 34166.203125\n",
      "Epoch number: 2891 and the loss: 33937.4765625\n",
      "Epoch number: 2901 and the loss: 35221.80078125\n",
      "Epoch number: 2911 and the loss: 33396.84375\n",
      "Epoch number: 2921 and the loss: 35149.6484375\n",
      "Epoch number: 2931 and the loss: 35446.890625\n",
      "Epoch number: 2941 and the loss: 33566.66015625\n",
      "Epoch number: 2951 and the loss: 35587.1953125\n",
      "Epoch number: 2961 and the loss: 33431.45703125\n",
      "Epoch number: 2971 and the loss: 33595.83203125\n",
      "Epoch number: 2981 and the loss: 32174.1015625\n",
      "Epoch number: 2991 and the loss: 34880.1015625\n",
      "Epoch number: 3001 and the loss: 32843.953125\n",
      "Epoch number: 3011 and the loss: 35248.54296875\n",
      "Epoch number: 3021 and the loss: 33520.57421875\n",
      "Epoch number: 3031 and the loss: 32852.4296875\n",
      "Epoch number: 3041 and the loss: 32854.671875\n",
      "Epoch number: 3051 and the loss: 35003.3203125\n",
      "Epoch number: 3061 and the loss: 34228.5078125\n",
      "Epoch number: 3071 and the loss: 34082.640625\n",
      "Epoch number: 3081 and the loss: 36470.67578125\n",
      "Epoch number: 3091 and the loss: 34403.85546875\n",
      "Epoch number: 3101 and the loss: 35880.015625\n",
      "Epoch number: 3111 and the loss: 35548.4609375\n",
      "Epoch number: 3121 and the loss: 32735.189453125\n",
      "Epoch number: 3131 and the loss: 34290.703125\n",
      "Epoch number: 3141 and the loss: 33970.46875\n",
      "Epoch number: 3151 and the loss: 32196.337890625\n",
      "Epoch number: 3161 and the loss: 33941.40625\n",
      "Epoch number: 3171 and the loss: 34342.56640625\n",
      "Epoch number: 3181 and the loss: 34016.234375\n",
      "Epoch number: 3191 and the loss: 33429.89453125\n",
      "Epoch number: 3201 and the loss: 32994.8515625\n",
      "Epoch number: 3211 and the loss: 34219.83203125\n",
      "Epoch number: 3221 and the loss: 37232.64453125\n",
      "Epoch number: 3231 and the loss: 32919.16015625\n",
      "Epoch number: 3241 and the loss: 35468.51953125\n",
      "Epoch number: 3251 and the loss: 36608.41015625\n",
      "Epoch number: 3261 and the loss: 33959.72265625\n",
      "Epoch number: 3271 and the loss: 36128.89453125\n",
      "Epoch number: 3281 and the loss: 32771.76953125\n",
      "Epoch number: 3291 and the loss: 33876.64453125\n",
      "Epoch number: 3301 and the loss: 32955.46484375\n",
      "Epoch number: 3311 and the loss: 34484.73828125\n",
      "Epoch number: 3321 and the loss: 35260.76953125\n",
      "Epoch number: 3331 and the loss: 34115.5546875\n",
      "Epoch number: 3341 and the loss: 35020.38671875\n",
      "Epoch number: 3351 and the loss: 33791.3984375\n",
      "Epoch number: 3361 and the loss: 34730.796875\n",
      "Epoch number: 3371 and the loss: 35243.546875\n",
      "Epoch number: 3381 and the loss: 36377.953125\n",
      "Epoch number: 3391 and the loss: 33890.58984375\n",
      "Epoch number: 3401 and the loss: 33957.8984375\n",
      "Epoch number: 3411 and the loss: 34870.81640625\n",
      "Epoch number: 3421 and the loss: 33828.53515625\n",
      "Epoch number: 3431 and the loss: 33396.953125\n",
      "Epoch number: 3441 and the loss: 33531.36328125\n",
      "Epoch number: 3451 and the loss: 33495.7890625\n",
      "Epoch number: 3461 and the loss: 34291.46484375\n",
      "Epoch number: 3471 and the loss: 33463.5625\n",
      "Epoch number: 3481 and the loss: 34255.61328125\n",
      "Epoch number: 3491 and the loss: 34206.16015625\n",
      "Epoch number: 3501 and the loss: 34089.1015625\n",
      "Epoch number: 3511 and the loss: 34856.79296875\n",
      "Epoch number: 3521 and the loss: 35477.625\n",
      "Epoch number: 3531 and the loss: 35332.1328125\n",
      "Epoch number: 3541 and the loss: 35586.46875\n",
      "Epoch number: 3551 and the loss: 33396.23828125\n",
      "Epoch number: 3561 and the loss: 33750.203125\n",
      "Epoch number: 3571 and the loss: 36085.86328125\n",
      "Epoch number: 3581 and the loss: 33365.90625\n",
      "Epoch number: 3591 and the loss: 34115.91796875\n",
      "Epoch number: 3601 and the loss: 31880.06640625\n",
      "Epoch number: 3611 and the loss: 32906.1796875\n",
      "Epoch number: 3621 and the loss: 34055.84765625\n",
      "Epoch number: 3631 and the loss: 35480.87890625\n",
      "Epoch number: 3641 and the loss: 33849.3125\n",
      "Epoch number: 3651 and the loss: 34854.59765625\n",
      "Epoch number: 3661 and the loss: 32725.548828125\n",
      "Epoch number: 3671 and the loss: 34502.16015625\n",
      "Epoch number: 3681 and the loss: 33099.91796875\n",
      "Epoch number: 3691 and the loss: 35479.4453125\n",
      "Epoch number: 3701 and the loss: 35331.70703125\n",
      "Epoch number: 3711 and the loss: 32433.244140625\n",
      "Epoch number: 3721 and the loss: 33430.984375\n",
      "Epoch number: 3731 and the loss: 34875.56640625\n",
      "Epoch number: 3741 and the loss: 34991.1015625\n",
      "Epoch number: 3751 and the loss: 36463.2578125\n",
      "Epoch number: 3761 and the loss: 34204.53125\n",
      "Epoch number: 3771 and the loss: 35576.8125\n",
      "Epoch number: 3781 and the loss: 34474.91796875\n",
      "Epoch number: 3791 and the loss: 34753.98046875\n",
      "Epoch number: 3801 and the loss: 33609.65625\n",
      "Epoch number: 3811 and the loss: 34057.5546875\n",
      "Epoch number: 3821 and the loss: 33502.7578125\n",
      "Epoch number: 3831 and the loss: 34647.2734375\n",
      "Epoch number: 3841 and the loss: 33264.25\n",
      "Epoch number: 3851 and the loss: 34686.6171875\n",
      "Epoch number: 3861 and the loss: 34380.28515625\n",
      "Epoch number: 3871 and the loss: 33371.54296875\n",
      "Epoch number: 3881 and the loss: 35514.9921875\n",
      "Epoch number: 3891 and the loss: 34953.484375\n",
      "Epoch number: 3901 and the loss: 35637.52734375\n",
      "Epoch number: 3911 and the loss: 34914.3828125\n",
      "Epoch number: 3921 and the loss: 35788.40625\n",
      "Epoch number: 3931 and the loss: 34794.01953125\n",
      "Epoch number: 3941 and the loss: 38598.4921875\n",
      "Epoch number: 3951 and the loss: 32813.19921875\n",
      "Epoch number: 3961 and the loss: 33503.12890625\n",
      "Epoch number: 3971 and the loss: 34518.33203125\n",
      "Epoch number: 3981 and the loss: 33375.484375\n",
      "Epoch number: 3991 and the loss: 32727.900390625\n",
      "Epoch number: 4001 and the loss: 34459.32421875\n",
      "Epoch number: 4011 and the loss: 33619.4765625\n",
      "Epoch number: 4021 and the loss: 33813.27734375\n",
      "Epoch number: 4031 and the loss: 32948.10546875\n",
      "Epoch number: 4041 and the loss: 35178.203125\n",
      "Epoch number: 4051 and the loss: 34587.7734375\n",
      "Epoch number: 4061 and the loss: 36299.34765625\n",
      "Epoch number: 4071 and the loss: 33094.94140625\n",
      "Epoch number: 4081 and the loss: 34543.828125\n",
      "Epoch number: 4091 and the loss: 33901.4296875\n",
      "Epoch number: 4101 and the loss: 34801.765625\n",
      "Epoch number: 4111 and the loss: 32068.935546875\n",
      "Epoch number: 4121 and the loss: 34046.87890625\n",
      "Epoch number: 4131 and the loss: 34883.640625\n",
      "Epoch number: 4141 and the loss: 33243.0234375\n",
      "Epoch number: 4151 and the loss: 35281.484375\n",
      "Epoch number: 4161 and the loss: 33212.26953125\n",
      "Epoch number: 4171 and the loss: 34975.76953125\n",
      "Epoch number: 4181 and the loss: 36638.37890625\n",
      "Epoch number: 4191 and the loss: 34523.453125\n",
      "Epoch number: 4201 and the loss: 35192.21875\n",
      "Epoch number: 4211 and the loss: 34517.37109375\n",
      "Epoch number: 4221 and the loss: 34841.0546875\n",
      "Epoch number: 4231 and the loss: 35486.6328125\n",
      "Epoch number: 4241 and the loss: 33396.96875\n",
      "Epoch number: 4251 and the loss: 35124.21875\n",
      "Epoch number: 4261 and the loss: 33338.94140625\n",
      "Epoch number: 4271 and the loss: 34442.05078125\n",
      "Epoch number: 4281 and the loss: 32784.6171875\n",
      "Epoch number: 4291 and the loss: 33023.06640625\n",
      "Epoch number: 4301 and the loss: 35439.83984375\n",
      "Epoch number: 4311 and the loss: 33444.06640625\n",
      "Epoch number: 4321 and the loss: 33760.26953125\n",
      "Epoch number: 4331 and the loss: 34672.38671875\n",
      "Epoch number: 4341 and the loss: 31998.6484375\n",
      "Epoch number: 4351 and the loss: 33851.0625\n",
      "Epoch number: 4361 and the loss: 35412.859375\n",
      "Epoch number: 4371 and the loss: 33439.38671875\n",
      "Epoch number: 4381 and the loss: 35358.88671875\n",
      "Epoch number: 4391 and the loss: 34208.16015625\n",
      "Epoch number: 4401 and the loss: 35053.12890625\n",
      "Epoch number: 4411 and the loss: 32865.0234375\n",
      "Epoch number: 4421 and the loss: 33488.9296875\n",
      "Epoch number: 4431 and the loss: 35465.44921875\n",
      "Epoch number: 4441 and the loss: 33373.40234375\n",
      "Epoch number: 4451 and the loss: 34555.62890625\n",
      "Epoch number: 4461 and the loss: 33676.87109375\n",
      "Epoch number: 4471 and the loss: 34820.41796875\n",
      "Epoch number: 4481 and the loss: 33300.24609375\n",
      "Epoch number: 4491 and the loss: 33531.53515625\n",
      "Epoch number: 4501 and the loss: 34128.5859375\n",
      "Epoch number: 4511 and the loss: 34316.69140625\n",
      "Epoch number: 4521 and the loss: 36060.39453125\n",
      "Epoch number: 4531 and the loss: 34319.3515625\n",
      "Epoch number: 4541 and the loss: 33924.44140625\n",
      "Epoch number: 4551 and the loss: 33612.37890625\n",
      "Epoch number: 4561 and the loss: 32566.099609375\n",
      "Epoch number: 4571 and the loss: 34038.4453125\n",
      "Epoch number: 4581 and the loss: 34526.73828125\n",
      "Epoch number: 4591 and the loss: 32089.7109375\n",
      "Epoch number: 4601 and the loss: 34369.859375\n",
      "Epoch number: 4611 and the loss: 33316.21875\n",
      "Epoch number: 4621 and the loss: 32800.62109375\n",
      "Epoch number: 4631 and the loss: 33118.75\n",
      "Epoch number: 4641 and the loss: 35136.64453125\n",
      "Epoch number: 4651 and the loss: 35679.26171875\n",
      "Epoch number: 4661 and the loss: 34020.359375\n",
      "Epoch number: 4671 and the loss: 33380.69140625\n",
      "Epoch number: 4681 and the loss: 36224.7265625\n",
      "Epoch number: 4691 and the loss: 33407.6953125\n",
      "Epoch number: 4701 and the loss: 34364.87109375\n",
      "Epoch number: 4711 and the loss: 33619.44140625\n",
      "Epoch number: 4721 and the loss: 35237.703125\n",
      "Epoch number: 4731 and the loss: 35783.4453125\n",
      "Epoch number: 4741 and the loss: 32821.74609375\n",
      "Epoch number: 4751 and the loss: 35698.35546875\n",
      "Epoch number: 4761 and the loss: 33342.57421875\n",
      "Epoch number: 4771 and the loss: 32728.2421875\n",
      "Epoch number: 4781 and the loss: 33450.640625\n",
      "Epoch number: 4791 and the loss: 33639.27734375\n",
      "Epoch number: 4801 and the loss: 35055.65625\n",
      "Epoch number: 4811 and the loss: 33855.90234375\n",
      "Epoch number: 4821 and the loss: 32750.810546875\n",
      "Epoch number: 4831 and the loss: 34128.796875\n",
      "Epoch number: 4841 and the loss: 34859.1171875\n",
      "Epoch number: 4851 and the loss: 35914.00390625\n",
      "Epoch number: 4861 and the loss: 32815.71875\n",
      "Epoch number: 4871 and the loss: 35037.26953125\n",
      "Epoch number: 4881 and the loss: 32356.1640625\n",
      "Epoch number: 4891 and the loss: 36110.18359375\n",
      "Epoch number: 4901 and the loss: 35969.21875\n",
      "Epoch number: 4911 and the loss: 34689.8515625\n",
      "Epoch number: 4921 and the loss: 33837.1171875\n",
      "Epoch number: 4931 and the loss: 34881.95703125\n",
      "Epoch number: 4941 and the loss: 34003.640625\n",
      "Epoch number: 4951 and the loss: 33021.828125\n",
      "Epoch number: 4961 and the loss: 34642.40234375\n",
      "Epoch number: 4971 and the loss: 34255.32421875\n",
      "Epoch number: 4981 and the loss: 33188.859375\n",
      "Epoch number: 4991 and the loss: 32650.076171875\n"
     ]
    }
   ],
   "source": [
    "epochs = 5000\n",
    "final_losses = []\n",
    "for i in range(epochs):\n",
    "    i = i+1\n",
    "    y_pred=model(train_categorical,train_cont)\n",
    "    loss = torch.sqrt(loss_function(y_pred,y_train))\n",
    "    final_losses.append(loss)\n",
    "    if i%10 == 1:\n",
    "        print(\"Epoch number: {} and the loss: {}\".format(i,loss.item()))\n",
    "    optimizer.zero_grad()\n",
    "    loss.backward()\n",
    "    optimizer.step()"
   ]
  },
  {
   "cell_type": "code",
   "execution_count": 103,
   "id": "29ee1b0f-99d0-4496-a87c-f586268d9d6e",
   "metadata": {},
   "outputs": [
    {
     "data": {
      "image/png": "[encoded data removed]",
      "text/plain": [
       "<Figure size 640x480 with 1 Axes>"
      ]
     },
     "metadata": {},
     "output_type": "display_data"
    }
   ],
   "source": [
    "import matplotlib.pyplot as plt\n",
    "%matplotlib inline\n",
    "plt.plot(range(epochs), final_losses)\n",
    "plt.ylabel('RMSE Loss')\n",
    "plt.xlabel('epoch');"
   ]
  },
  {
   "cell_type": "code",
   "execution_count": 104,
   "id": "47f99734-435f-4049-9198-88878081ea7f",
   "metadata": {},
   "outputs": [
    {
     "name": "stdout",
     "output_type": "stream",
     "text": [
      "RMSE: 47413.75390625\n"
     ]
    }
   ],
   "source": [
    "y_pred=\"\"\n",
    "with torch.no_grad():\n",
    "    y_pred=model(test_categorical,test_cont)\n",
    "    loss=torch.sqrt(loss_function(y_pred,y_test))\n",
    "print('RMSE: {}'.format(loss))"
   ]
  },
  {
   "cell_type": "code",
   "execution_count": 105,
   "id": "489056af-6b3d-406b-9501-38f7b7c8aa3b",
   "metadata": {},
   "outputs": [],
   "source": [
    "data_verify=pd.DataFrame(y_test.tolist(),columns=[\"Test\"])"
   ]
  },
  {
   "cell_type": "code",
   "execution_count": 106,
   "id": "d31ba3cc-15b2-4c7d-b92f-336fdded603c",
   "metadata": {},
   "outputs": [],
   "source": [
    "data_predicted=pd.DataFrame(y_pred.tolist(),columns=[\"Prediction\"])"
   ]
  },
  {
   "cell_type": "code",
   "execution_count": 107,
   "id": "959ab2da-4bf3-4051-9428-e2b87711f5c0",
   "metadata": {},
   "outputs": [
    {
     "data": {
      "text/html": [
       "<div>\n",
       "<style scoped>\n",
       "    .dataframe tbody tr th:only-of-type {\n",
       "        vertical-align: middle;\n",
       "    }\n",
       "\n",
       "    .dataframe tbody tr th {\n",
       "        vertical-align: top;\n",
       "    }\n",
       "\n",
       "    .dataframe thead th {\n",
       "        text-align: right;\n",
       "    }\n",
       "</style>\n",
       "<table border=\"1\" class=\"dataframe\">\n",
       "  <thead>\n",
       "    <tr style=\"text-align: right;\">\n",
       "      <th></th>\n",
       "      <th>Test</th>\n",
       "      <th>Prediction</th>\n",
       "      <th>Difference</th>\n",
       "    </tr>\n",
       "  </thead>\n",
       "  <tbody>\n",
       "    <tr>\n",
       "      <th>0</th>\n",
       "      <td>130000.0</td>\n",
       "      <td>134391.656250</td>\n",
       "      <td>-4391.656250</td>\n",
       "    </tr>\n",
       "    <tr>\n",
       "      <th>1</th>\n",
       "      <td>138887.0</td>\n",
       "      <td>113305.656250</td>\n",
       "      <td>25581.343750</td>\n",
       "    </tr>\n",
       "    <tr>\n",
       "      <th>2</th>\n",
       "      <td>175500.0</td>\n",
       "      <td>166855.062500</td>\n",
       "      <td>8644.937500</td>\n",
       "    </tr>\n",
       "    <tr>\n",
       "      <th>3</th>\n",
       "      <td>195000.0</td>\n",
       "      <td>237096.125000</td>\n",
       "      <td>-42096.125000</td>\n",
       "    </tr>\n",
       "    <tr>\n",
       "      <th>4</th>\n",
       "      <td>142500.0</td>\n",
       "      <td>184525.984375</td>\n",
       "      <td>-42025.984375</td>\n",
       "    </tr>\n",
       "  </tbody>\n",
       "</table>\n",
       "</div>"
      ],
      "text/plain": [
       "       Test     Prediction    Difference\n",
       "0  130000.0  134391.656250  -4391.656250\n",
       "1  138887.0  113305.656250  25581.343750\n",
       "2  175500.0  166855.062500   8644.937500\n",
       "3  195000.0  237096.125000 -42096.125000\n",
       "4  142500.0  184525.984375 -42025.984375"
      ]
     },
     "execution_count": 107,
     "metadata": {},
     "output_type": "execute_result"
    }
   ],
   "source": [
    "final_output=pd.concat([data_verify,data_predicted],axis=1)\n",
    "final_output['Difference']=final_output['Test']-final_output['Prediction']\n",
    "final_output.head()"
   ]
  },
  {
   "cell_type": "code",
   "execution_count": 108,
   "id": "c989c2f7-4f8f-4c21-96bd-0839fc622fcd",
   "metadata": {},
   "outputs": [],
   "source": [
    "torch.save(model,\"HousePrice.pt\")"
   ]
  },
  {
   "cell_type": "code",
   "execution_count": null,
   "id": "b7a0ace9-a7c4-4d9d-b096-66caacf89b54",
   "metadata": {},
   "outputs": [],
   "source": [
    "torch.s"
   ]
  }
 ],
 "metadata": {
  "kernelspec": {
   "display_name": "Python 3 (ipykernel)",
   "language": "python",
   "name": "python3"
  },
  "language_info": {
   "codemirror_mode": {
    "name": "ipython",
    "version": 3
   },
   "file_extension": ".py",
   "mimetype": "text/x-python",
   "name": "python",
   "nbconvert_exporter": "python",
   "pygments_lexer": "ipython3",
   "version": "3.8.10"
  }
 },
 "nbformat": 4,
 "nbformat_minor": 5
}
